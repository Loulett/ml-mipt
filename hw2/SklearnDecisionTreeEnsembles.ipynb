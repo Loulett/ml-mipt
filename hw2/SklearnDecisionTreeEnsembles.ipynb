{
 "cells": [
  {
   "cell_type": "code",
   "execution_count": 1,
   "metadata": {
    "collapsed": false
   },
   "outputs": [],
   "source": [
    "from sklearn.tree import DecisionTreeRegressor, DecisionTreeClassifier\n",
    "from sklearn.model_selection import cross_val_score\n",
    "from sklearn.base import BaseEstimator\n",
    "from sklearn.datasets import make_regression, make_classification\n",
    "\n",
    "import numpy as np\n",
    "import matplotlib.pyplot as plt\n",
    "%matplotlib inline"
   ]
  },
  {
   "cell_type": "code",
   "execution_count": 2,
   "metadata": {
    "collapsed": false
   },
   "outputs": [],
   "source": [
    "def bootstrap(X, y):\n",
    "    mask = np.random.choice(len(y), len(y), replace=True)\n",
    "    return X[mask], y[mask]\n",
    "\n",
    "def random_subspace_method(X, p=1.0):\n",
    "    mask = np.random.choice(len(X), len(X), replace=False)\n",
    "    X = X[mask].T\n",
    "    #print X\n",
    "    return X[:int(len(X[1])*p)].T"
   ]
  },
  {
   "cell_type": "code",
   "execution_count": 3,
   "metadata": {
    "collapsed": false
   },
   "outputs": [
    {
     "data": {
      "text/plain": [
       "array([[16, 17],\n",
       "       [ 0,  1],\n",
       "       [ 8,  9],\n",
       "       [24, 25]])"
      ]
     },
     "execution_count": 3,
     "metadata": {},
     "output_type": "execute_result"
    }
   ],
   "source": [
    "X = np.arange(32).reshape(4, 8)\n",
    "y = np.arange(4)\n",
    "\n",
    "bootstrap(X, y)\n",
    "random_subspace_method(X, 0.5)"
   ]
  },
  {
   "cell_type": "code",
   "execution_count": 4,
   "metadata": {
    "collapsed": false
   },
   "outputs": [],
   "source": [
    "X = np.arange(16).reshape(4, 4)\n",
    "y = np.arange(4)\n",
    "\n",
    "assert type(bootstrap(X, y)[0]) == np.ndarray, \"wrong return type of X\"\n",
    "assert type(bootstrap(X, y)[1]) == np.ndarray, \"wrong return type of y\"\n",
    "assert bootstrap(X, y)[0].shape == X.shape, \"wrong shape of X\"\n",
    "assert bootstrap(X, y)[1].shape == y.shape, \"wrong shape of y\"\n",
    "\n",
    "assert type(random_subspace_method(X)) == np.ndarray, \"wrong return type\"\n",
    "assert random_subspace_method(X).shape == X.shape, \"wrong size\"\n",
    "assert random_subspace_method(X, p=0.5).shape == (4, 2), \"wrong size\"\n",
    "assert np.all(np.unique(random_subspace_method(X)) == np.unique(X)), \"duplicating features (or smth even worse)\""
   ]
  },
  {
   "cell_type": "code",
   "execution_count": 17,
   "metadata": {
    "collapsed": true
   },
   "outputs": [],
   "source": [
    "class BrandNewRandomForestClassifier(BaseEstimator):\n",
    "    def __init__(self, num_iterations=100, max_depth=6):\n",
    "        self.num_iterations = num_iterations\n",
    "        self.max_depth = max_depth\n",
    "        \n",
    "    def fit(self, X, y):\n",
    "        self.estimators = []\n",
    "        for iter_num in range(self.num_iterations):\n",
    "            # BEGIN OF YOUR CODE\n",
    "            X_iter, y_iter = bootstrap(X, y)\n",
    "            \n",
    "            new_estimator = DecisionTreeClassifier()\n",
    "            new_estimator.fit(random_subspace_method(X, 0.6), y)\n",
    "            \n",
    "            # END OF YOUR CODE\n",
    "            \n",
    "            self.estimators.append(new_estimator)\n",
    "            \n",
    "    def predict_proba(self, X):\n",
    "        probas = []\n",
    "        \n",
    "        for estimator in self.estimators:\n",
    "            probas.append(estimator.predict_proba(X))\n",
    "        \n",
    "        return np.dstack(probas).mean(axis=2)"
   ]
  },
  {
   "cell_type": "code",
   "execution_count": 18,
   "metadata": {
    "collapsed": false
   },
   "outputs": [
    {
     "data": {
      "text/plain": [
       "-4.169202787866058"
      ]
     },
     "execution_count": 18,
     "metadata": {},
     "output_type": "execute_result"
    }
   ],
   "source": [
    "from sklearn.datasets import make_classification\n",
    "\n",
    "X, y = make_classification()\n",
    "np.mean(cross_val_score(DecisionTreeClassifier(max_depth=6), X, y, cv=3, scoring='neg_log_loss'))"
   ]
  },
  {
   "cell_type": "code",
   "execution_count": 19,
   "metadata": {
    "collapsed": false
   },
   "outputs": [
    {
     "data": {
      "text/plain": [
       "-0.69956641158937705"
      ]
     },
     "execution_count": 19,
     "metadata": {},
     "output_type": "execute_result"
    }
   ],
   "source": [
    "np.mean(cross_val_score(BrandNewRandomForestClassifier(max_depth=6), X, y, cv=3, scoring='neg_log_loss'))"
   ]
  },
  {
   "cell_type": "code",
   "execution_count": 20,
   "metadata": {
    "collapsed": false
   },
   "outputs": [
    {
     "data": {
      "image/png": "[encoded data removed]",
      "text/plain": [
       "<matplotlib.figure.Figure at 0x8e0f2e8>"
      ]
     },
     "metadata": {},
     "output_type": "display_data"
    }
   ],
   "source": [
    "scores = []\n",
    "for iterations in [1] + range(5, 100, 10):\n",
    "    algo = BrandNewRandomForestClassifier(num_iterations=iterations)\n",
    "    scores.append(cross_val_score(algo, X, y, cv=3, scoring='neg_log_loss').mean())\n",
    "plt.plot(scores)\n",
    "_ = plt.xticks(range(10), [1] + range(5, 100, 10))"
   ]
  },
  {
   "cell_type": "code",
   "execution_count": 9,
   "metadata": {
    "collapsed": true
   },
   "outputs": [],
   "source": [
    "class SimpleGBRegressor(BaseEstimator):\n",
    "    def __init__(self, num_iterations=100, learning_rate=1e-1, max_depth=6):\n",
    "        self.num_iterations = num_iterations\n",
    "        self.learning_rate = learning_rate\n",
    "        self.max_depth = max_depth\n",
    "        \n",
    "    def fit(self, X, y):\n",
    "        self.estimators = []\n",
    "        curr_pred = np.zeros(y.shape)\n",
    "        for iter_num in range(self.num_iterations):\n",
    "            new_estimator = DecisionTreeRegressor().fit(X, y-curr_pred)\n",
    "            \n",
    "            self.estimators.append(new_estimator)\n",
    "            curr_pred += new_estimator.predict(X)\n",
    "    \n",
    "    def predict(self, X):\n",
    "        res = np.zeros(X.shape[0])\n",
    "        for estimator in self.estimators:\n",
    "            res += self.learning_rate * estimator.predict(X)\n",
    "        return res"
   ]
  },
  {
   "cell_type": "code",
   "execution_count": 10,
   "metadata": {
    "collapsed": false
   },
   "outputs": [
    {
     "data": {
      "text/plain": [
       "-19007.250966889831"
      ]
     },
     "execution_count": 10,
     "metadata": {},
     "output_type": "execute_result"
    }
   ],
   "source": [
    "X_data, y_data = make_regression(n_samples=1000, noise=100, n_features=10, random_state=42)\n",
    "np.mean(cross_val_score(DecisionTreeRegressor(max_depth=6), X_data, y_data, cv=3, scoring='neg_mean_squared_error'))"
   ]
  },
  {
   "cell_type": "code",
   "execution_count": 11,
   "metadata": {
    "collapsed": false,
    "scrolled": true
   },
   "outputs": [
    {
     "data": {
      "text/plain": [
       "-22925.220339364194"
      ]
     },
     "execution_count": 11,
     "metadata": {},
     "output_type": "execute_result"
    }
   ],
   "source": [
    "algo = SimpleGBRegressor(num_iterations=50, learning_rate = 0.1, max_depth=6)\n",
    "np.mean(cross_val_score(algo, X_data, y_data, cv=3, scoring='neg_mean_squared_error'))"
   ]
  },
  {
   "cell_type": "code",
   "execution_count": 12,
   "metadata": {
    "collapsed": false
   },
   "outputs": [
    {
     "data": {
      "text/plain": [
       "[<matplotlib.lines.Line2D at 0x8c9c160>]"
      ]
     },
     "execution_count": 12,
     "metadata": {},
     "output_type": "execute_result"
    },
    {
     "data": {
      "image/png": "[encoded data removed]",
      "text/plain": [
       "<matplotlib.figure.Figure at 0x8e9bf98>"
      ]
     },
     "metadata": {},
     "output_type": "display_data"
    }
   ],
   "source": [
    "scores = []\n",
    "for iterations in range(30):\n",
    "    algo = SimpleGBRegressor(num_iterations=iterations, learning_rate=0.2)\n",
    "    scores.append(cross_val_score(algo, X_data, y_data, cv=3, scoring='neg_mean_squared_error').mean())\n",
    "plt.plot(scores)"
   ]
  },
  {
   "cell_type": "code",
   "execution_count": null,
   "metadata": {
    "collapsed": true
   },
   "outputs": [],
   "source": []
  }
 ],
 "metadata": {
  "kernelspec": {
   "display_name": "Python [Root]",
   "language": "python",
   "name": "Python [Root]"
  },
  "language_info": {
   "codemirror_mode": {
    "name": "ipython",
    "version": 2
   },
   "file_extension": ".py",
   "mimetype": "text/x-python",
   "name": "python",
   "nbconvert_exporter": "python",
   "pygments_lexer": "ipython2",
   "version": "2.7.12"
  }
 },
 "nbformat": 4,
 "nbformat_minor": 0
}
